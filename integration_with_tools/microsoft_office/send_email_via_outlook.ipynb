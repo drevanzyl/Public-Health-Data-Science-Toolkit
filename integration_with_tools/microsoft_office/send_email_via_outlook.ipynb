{
 "cells": [
  {
   "cell_type": "markdown",
   "metadata": {},
   "source": [
    "### Description for `send_email_via_outlook` Function\n",
    "\n",
    "The `send_email_via_outlook` function is a Python utility designed to automate the process of sending emails using the Microsoft Outlook desktop application. This function leverages the `pywin32` library to interact with Outlook through COM (Component Object Model) automation, allowing scripts to perform tasks as if they were carried out directly in the Outlook interface. This makes it particularly useful for applications that need to send emails programmatically without requiring direct user interaction or relying on SMTP server configurations.\n",
    "\n",
    "### Features\n",
    "\n",
    "- **Ease of Use**: Simplifies sending emails by wrapping the Outlook COM object interactions in a straightforward Python function.\n",
    "- **No SMTP Required**: Sends emails directly through the Outlook application, eliminating the need for SMTP server details.\n",
    "- **Attachment Support**: Although not shown in the basic example, the function can be easily extended to include attachments with emails.\n",
    "- **HTML and Plain Text Support**: Supports sending both plain text and HTML emails, making it versatile for different messaging needs.\n",
    "\n",
    "### Requirements\n",
    "\n",
    "- **Microsoft Outlook**: The Outlook desktop application must be installed and configured on the Windows machine where the script is executed.\n",
    "- **pywin32 Library**: This library is required to provide the COM object interface to Python, allowing it to control Outlook.\n",
    "\n",
    "### Installation\n",
    "\n",
    "Before using the `send_email_via_outlook` function, ensure you have installed the `pywin32` library. Install it using pip:\n",
    "\n",
    "```sh\n",
    "pip install pywin32\n",
    "```\n",
    "\n",
    "### Usage\n",
    "\n",
    "To use the `send_email_via_outlook` function in your Python script, follow these steps:\n",
    "\n",
    "1. **Import the Function**: Include the function definition in your script or import it from a module where it's defined.\n",
    "\n",
    "2. **Call the Function**: Use the function by passing the necessary parameters.\n",
    "\n",
    "Example usage:\n",
    "\n",
    "```python\n",
    "send_email_via_outlook(\n",
    "    recipient=\"recipient@example.com\",\n",
    "    subject=\"Hello from Python\",\n",
    "    body=\"This is a test email sent through Outlook by a Python script.\"\n",
    ")\n",
    "```\n",
    "\n",
    "### Parameters\n",
    "\n",
    "- `recipient`: The email address of the recipient.\n",
    "- `subject`: The subject line of the email.\n",
    "- `body`: The main content/body of the email. This can be plain text or HTML.\n",
    "\n",
    "### Extending the Function\n",
    "\n",
    "To add attachments or use HTML content, modify the function as follows:\n",
    "\n",
    "- For attachments: Un-comment or add the line `mail.Attachments.Add('path_to_attachment')`, specifying the correct path to the attachment.\n",
    "- For HTML emails: Replace `mail.Body` with `mail.HTMLBody` and provide the HTML content as a string.\n",
    "\n",
    "### Security and Permissions\n",
    "\n",
    "- Depending on your Outlook security settings, you might be prompted to allow the script to send emails on your behalf.\n",
    "- Ensure that both the Outlook application and the script are run with compatible permission levels to avoid COM object access issues."
   ]
  },
  {
   "cell_type": "code",
   "execution_count": null,
   "metadata": {
    "vscode": {
     "languageId": "plaintext"
    }
   },
   "outputs": [],
   "source": [
    "import win32com.client as win32\n",
    "\n",
    "def send_email_via_outlook(recipient, subject, body):\n",
    "    outlook = win32.Dispatch('outlook.application')\n",
    "    mail = outlook.CreateItem(0)  # 0 is the code for a mail item\n",
    "    mail.To = recipient\n",
    "    mail.Subject = subject\n",
    "    mail.Body = body\n",
    "    # mail.HTMLBody = '<h2>This is HTML Body</h2>' # Use this line if you want to send HTML email.\n",
    "\n",
    "    # To add an attachment uncomment the line below and specify the path to the file.\n",
    "    # mail.Attachments.Add('path_to_attachment')\n",
    "\n",
    "    mail.Send()\n",
    "\n",
    "recipient = \"recipient@example.com\"  # Change to your recipient's email address\n",
    "subject = \"Test Email from Python\"\n",
    "body = \"This is a test email sent from a Python script using Outlook.\"\n",
    "\n",
    "send_email_via_outlook(recipient, subject, body)\n"
   ]
  }
 ],
 "metadata": {
  "language_info": {
   "name": "python"
  }
 },
 "nbformat": 4,
 "nbformat_minor": 2
}
