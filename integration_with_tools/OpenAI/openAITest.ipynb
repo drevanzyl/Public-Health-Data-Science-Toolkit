{
 "cells": [
  {
   "cell_type": "code",
   "execution_count": 5,
   "metadata": {},
   "outputs": [
    {
     "name": "stdout",
     "output_type": "stream",
     "text": [
      "Assistant's message: Life is a journey, a winding road\n",
      "Full of twists and turns, a heavy load\n",
      "We face challenges, we feel the strife\n",
      "Yet somehow, we continue this dance called life\n",
      "\n",
      "We start as children, innocent and free\n",
      "Exploring the world, full of possibility\n",
      "But as we grow, we face new fears\n",
      "And learn that life is not always clear\n",
      "\n",
      "We fall in love, our hearts full of joy\n",
      "But sometimes, love can also destroy\n",
      "We face heartbreak, we shed our tears\n",
      "And wonder if happiness will reappear\n",
      "\n",
      "Yet through it all, we find our strength\n",
      "We pick ourselves up, we go to any length\n",
      "To overcome the obstacles in our way\n",
      "And find the light in each new day\n",
      "\n",
      "Life is a mystery, a puzzle to solve\n",
      "A tapestry of moments, both painful and evolved\n",
      "But in the end, it's the journey we treasure\n",
      "For it's what shapes us, makes us better\n",
      "\n",
      "So embrace each moment, cherish each day\n",
      "For life is a gift, in every single way\n",
      "And remember, in the darkest night\n",
      "There's always a glimmer of hope, a reason to fight.\n"
     ]
    }
   ],
   "source": [
    "import os\n",
    "from openai import OpenAI\n",
    "\n",
    "client = OpenAI(\n",
    "    api_key=os.environ.get(\"OPENAI_API_KEY\"),\n",
    ")\n",
    "\n",
    "chat_completion = client.chat.completions.create(\n",
    "    messages=[\n",
    "        {\n",
    "            \"role\": \"user\",\n",
    "            \"content\": \"Write a poem about life\",\n",
    "        }\n",
    "    ],\n",
    "    model=\"gpt-3.5-turbo\",\n",
    ")\n",
    "\n",
    "# Extract the assistant's message from the response\n",
    "assistant_message = chat_completion.choices[0].message.content\n",
    "\n",
    "# Print the assistant's message\n",
    "print(\"Assistant's message:\", assistant_message)"
   ]
  },
  {
   "cell_type": "code",
   "execution_count": 7,
   "metadata": {},
   "outputs": [
    {
     "name": "stdout",
     "output_type": "stream",
     "text": [
      "In the context of longitudinal data analysis, selecting the appropriate working correlation structure is crucial for obtaining efficient and meaningful estimates from marginal models, such as those fitted with Generalized Estimating Equations (GEE). The Quasi-Information Criterion (QIC) is a tool used for comparing the goodness-of-fit of models with different working correlation structures, where, generally speaking, a smaller QIC value indicates a better fit of the model to the data.\n",
      "\n",
      "Given the QIC values for models with different working correlation structures:\n",
      "\n",
      "- Independent: 5689\n",
      "- First-order Autoregressive (AR(1)): 5570\n",
      "- Exchangeable: 5643\n",
      "- Unstructured: 5612\n",
      "\n",
      "Based on the QIC values provided, the First-order Autoregressive (AR(1)) model has the smallest QIC value (5570). This indicates that, among the models considered, the AR(1) model provides the best fit to the data according to the QIC. The AR(1) working correlation structure assumes that the correlation between observations decreases as the time gap between them increases, which is often a reasonable assumption in longitudinal studies.\n",
      "\n",
      "Therefore, I would recommend your colleague to interpret the results from the First-order Autoregressive (AR(1)) model. It's important to note, however, that while the QIC provides valuable guidance, the decision should also consider the context of the study, theoretical considerations, and the plausibility of the assumptions behind each working correlation structure. Additionally, assessing the robustness of the findings by examining diagnostics and sensitivity analyses is also a good practice.\n"
     ]
    }
   ],
   "source": [
    "from openai import OpenAI\n",
    "client = OpenAI()\n",
    "\n",
    "completion = client.chat.completions.create(\n",
    "  model=\"gpt-4-turbo-preview\",\n",
    "  messages=[\n",
    "    {\"role\": \"system\", \"content\": \"You are a statistician\"},\n",
    "    {\"role\": \"user\", \"content\": \"A co-worker is analyzing longitudinal data that were collected at equally-spaced time points. They ask you for help reviewing the output from several marginal linear regression models fitted in Python, where each model had a different working correlation structure for capturing the correlations of observations within individuals. The QIC values for the models follow: Independent = 5689; First-order Autoregressive = 5570; Exchangeable = 5643; Unstructured = 5612. Which model would you recommend that your colleague interpret IndependentFirst-order AutoregressiveExchangeable Unstructured\"}\n",
    "  ]\n",
    ")\n",
    "\n",
    "print(completion.choices[0].message.content)"
   ]
  }
 ],
 "metadata": {
  "kernelspec": {
   "display_name": "base",
   "language": "python",
   "name": "python3"
  },
  "language_info": {
   "codemirror_mode": {
    "name": "ipython",
    "version": 3
   },
   "file_extension": ".py",
   "mimetype": "text/x-python",
   "name": "python",
   "nbconvert_exporter": "python",
   "pygments_lexer": "ipython3",
   "version": "3.8.18"
  }
 },
 "nbformat": 4,
 "nbformat_minor": 2
}
