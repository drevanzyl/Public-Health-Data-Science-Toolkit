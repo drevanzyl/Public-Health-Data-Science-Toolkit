{
 "cells": [
  {
   "cell_type": "markdown",
   "metadata": {},
   "source": [
    "This Python script provides a solution to extract highlighted text from PDF files and save the extracted text into an Excel spreadsheet. It utilizes the `fitz` (PyMuPDF) library for handling PDF files and `openpyxl` for creating and managing Excel files. The script is divided into two main functions:\n",
    "\n",
    "1. **`extract_highlighted_text(pdf_path)`**: This function takes the path to a PDF file as input and extracts all highlighted texts within it. It iterates through each page of the PDF, checks for annotations (highlights are a form of annotation), and if any are found, it specifically looks for annotations of type 8, which corresponds to highlights. The text associated with each highlight annotation is then collected.\n",
    "\n",
    "2. **`extract_to_excel(folder_path, excel_path)`**: This function is designed to iterate over all PDF files in a specified folder, calling the `extract_highlighted_text` function for each to extract highlighted texts. It then creates a new Excel file (or opens an existing one) and writes the extracted highlights into it, organizing the data into two columns: one for the filename and one for the corresponding highlighted text. Finally, it saves the Excel file to a specified path.\n",
    "\n",
    "The script concludes with a demonstration of how to use these functions, specifying a folder containing PDF files and the path where the Excel file should be saved.\n",
    "\n",
    "### Usage Instructions:\n",
    "\n",
    "1. **Install Dependencies**: Ensure you have `fitz` (PyMuPDF) and `openpyxl` installed in your Python environment. If not, you can install them using pip:\n",
    "   ```\n",
    "   pip install PyMuPDF openpyxl\n",
    "   ```\n",
    "\n",
    "2. **Prepare PDF Files**: Place all the PDF files you want to extract highlighted text from in a single folder.\n",
    "\n",
    "3. **Configure Paths**: Modify the `folder_path` and `excel_path` variables in the script to match the locations on your system where the PDFs are stored and where you want the Excel file to be saved, respectively.\n",
    "\n",
    "4. **Run the Script**: Execute the script. It will process each PDF file in the specified folder, extract highlighted texts, and save the results in an Excel file at the specified path.\n",
    "\n",
    "### Notes:\n",
    "\n",
    "- The script assumes all annotations of type 8 in a PDF are highlights. If a PDF uses different annotation types for highlights, adjustments to the `extract_highlighted_text` function may be necessary.\n",
    "- The script is designed for simplicity and does not handle potential errors, such as file access issues or corrupt PDFs. Depending on your use case, you may want to add error handling mechanisms.\n",
    "- The performance of the script can vary based on the size and number of PDF files processed. For large datasets, consider implementing progress indicators or optimizing the PDF processing loop.\n",
    "\n",
    "This script is a useful tool for researchers, students, or professionals who frequently work with PDFs and need an efficient way to compile and analyze highlighted text across multiple documents."
   ]
  },
  {
   "cell_type": "code",
   "execution_count": null,
   "metadata": {},
   "outputs": [],
   "source": [
    "import os\n",
    "import fitz  # PyMuPDF\n",
    "from openpyxl import Workbook\n",
    "\n",
    "def extract_highlighted_text(pdf_path):\n",
    "    \"\"\" Extracts highlighted text from a given PDF file. \"\"\"\n",
    "    highlighted_text = []\n",
    "    \n",
    "    with fitz.open(pdf_path) as doc:\n",
    "        for page in doc:\n",
    "            annotations = page.annots()\n",
    "            if annotations:\n",
    "                for annot in annotations:\n",
    "                    if annot.type[0] == 8:  # Highlight annotation type\n",
    "                        highlighted_text.append(annot.info[\"content\"])\n",
    "\n",
    "    return highlighted_text\n",
    "\n",
    "def extract_to_excel(folder_path, excel_path):\n",
    "    \"\"\" Extracts highlighted text from all PDFs in a folder and saves to an Excel file. \"\"\"\n",
    "    workbook = Workbook()\n",
    "    sheet = workbook.active\n",
    "    sheet.title = 'Highlighted Texts'\n",
    "    sheet.append(['File Name', 'Highlighted Text'])\n",
    "\n",
    "    for filename in os.listdir(folder_path):\n",
    "        if filename.endswith('.pdf'):\n",
    "            pdf_path = os.path.join(folder_path, filename)\n",
    "            highlights = extract_highlighted_text(pdf_path)\n",
    "            \n",
    "            for text in highlights:\n",
    "                sheet.append([filename, text])\n",
    "\n",
    "    workbook.save(excel_path)\n",
    "    print(f\"Data saved to {excel_path}\")\n",
    "\n",
    "# Replace 'your_folder_path' with the path to your folder containing PDFs\n",
    "# Replace 'your_excel_path' with the path where you want to save the Excel file\n",
    "folder_path = 'C:/Users/user/Desktop'\n",
    "excel_path = 'C:/Users/user/Desktop/highlights.xlsx'\n",
    "\n",
    "extract_to_excel(folder_path, excel_path)"
   ]
  }
 ],
 "metadata": {
  "kernelspec": {
   "display_name": "base",
   "language": "python",
   "name": "python3"
  },
  "language_info": {
   "codemirror_mode": {
    "name": "ipython",
    "version": 3
   },
   "file_extension": ".py",
   "mimetype": "text/x-python",
   "name": "python",
   "nbconvert_exporter": "python",
   "pygments_lexer": "ipython3",
   "version": "3.8.18"
  }
 },
 "nbformat": 4,
 "nbformat_minor": 2
}
